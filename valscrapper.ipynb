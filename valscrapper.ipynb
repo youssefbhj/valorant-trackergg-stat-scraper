{
 "cells": [
  {
   "cell_type": "markdown",
   "id": "2315c44d",
   "metadata": {},
   "source": [
    "# VALORANT TRACKER.GG SCRAPPER   \n",
    "**get your game stats:**   \n",
    "ACS   K   D  A  +/-  K/D    ADR  HS%  FK FD  MK   \n",
    "**damage based on weapons** and **attack and defence data**   "
   ]
  },
  {
   "cell_type": "code",
   "execution_count": 1,
   "id": "caca91bc",
   "metadata": {},
   "outputs": [],
   "source": [
    "from selenium import webdriver\n",
    "from selenium.webdriver.chrome.options import Options\n",
    "from selenium.webdriver.common.action_chains import ActionChains\n",
    "from helium import *\n",
    "from bs4 import BeautifulSoup\n",
    "import pandas as pd\n",
    "import numpy as np\n",
    "import matplotlib.pyplot as plt\n",
    "from unicodedata import normalize\n",
    "import os"
   ]
  },
  {
   "cell_type": "markdown",
   "id": "1563f2d9",
   "metadata": {},
   "source": [
    "**enter you match url and your game tag like SEF#6633**"
   ]
  },
  {
   "cell_type": "code",
   "execution_count": 20,
   "id": "e6f9afc7",
   "metadata": {},
   "outputs": [],
   "source": [
    "url = 'https://tracker.gg/valorant/match/9b39bbb2-3ca2-402c-ad96-1feeac9dd098'\n",
    "name = \"SEF#6633\""
   ]
  },
  {
   "cell_type": "code",
   "execution_count": 21,
   "id": "249c6080",
   "metadata": {},
   "outputs": [],
   "source": [
    "browser = start_chrome(url, headless=True)"
   ]
  },
  {
   "cell_type": "code",
   "execution_count": 22,
   "id": "2f0bd392",
   "metadata": {},
   "outputs": [],
   "source": [
    "soup= BeautifulSoup(browser.page_source, 'html.parser') "
   ]
  },
  {
   "cell_type": "code",
   "execution_count": 23,
   "id": "249b484f",
   "metadata": {},
   "outputs": [],
   "source": [
    "matches= soup.find_all('table') #scrap just the table part of the page"
   ]
  },
  {
   "cell_type": "code",
   "execution_count": 24,
   "id": "5ca1a245",
   "metadata": {},
   "outputs": [],
   "source": [
    "matches = '<html><head></head><body>' + str(matches) + '</body></html>'\n",
    "#make it as html file so pandas can read it \n",
    "#not pretty but get the job done"
   ]
  },
  {
   "cell_type": "markdown",
   "id": "2b14bb64",
   "metadata": {},
   "source": [
    "using pandas to convert the html table to a data frame so it is easier to extract the data:"
   ]
  },
  {
   "cell_type": "code",
   "execution_count": 25,
   "id": "363b597f",
   "metadata": {},
   "outputs": [],
   "source": [
    "table_matchesfull = pd.read_html(matches)"
   ]
  },
  {
   "cell_type": "code",
   "execution_count": 26,
   "id": "dc22ed70",
   "metadata": {},
   "outputs": [
    {
     "data": {
      "text/plain": [
       "[              Team A  Current Rank  ACS   K   D  A  +/-  K/D    ADR  HS%  FK  \\\n",
       " 0          Ewan#7485           NaN  296  27  14  8   13  1.9  216.8  14%   3   \n",
       " 1  Fikuskukis56#EUNE           NaN  254  23  21  4    2  1.1  170.4  11%   4   \n",
       " 2  GIGAFire0700#7803           NaN  241  24  16  7    8  1.5  135.0   7%   3   \n",
       " 3           SEF#6633           NaN  142  13  22  5   -9  0.6   96.1   6%   3   \n",
       " 4      Kirigaya#3540           NaN   90   8  21  1  -13  0.4   59.7   5%   1   \n",
       " \n",
       "    FD  MK  Econ  \n",
       " 0   4   4    83  \n",
       " 1   1   2    62  \n",
       " 2   1   2    71  \n",
       " 3   1   0    35  \n",
       " 4   4   0    22  ,\n",
       "              Team B  Current Rank  ACS   K   D   A  +/-  K/D    ADR  HS%  FK  \\\n",
       " 0  MinoLazy13#LOM13           NaN  378  34  17   6   17  2.0  215.2   7%   3   \n",
       " 1      SNAzHiro#EUW           NaN  261  23  20   4    3  1.1  162.1   6%   4   \n",
       " 2       joskiks#EUW           NaN  180  15  19   5   -4  0.8  125.2  13%   2   \n",
       " 3       AKUHEI#5421           NaN  140  12  16   4   -4  0.8   89.9  10%   0   \n",
       " 4   K1ngBurger#king           NaN  135   9  23  12  -14  0.4   91.7   5%   2   \n",
       " \n",
       "    FD  MK  Econ  \n",
       " 0   0   4    80  \n",
       " 1   5   1    63  \n",
       " 2   3   0    48  \n",
       " 3   1   1    40  \n",
       " 4   5   0    42  ]"
      ]
     },
     "execution_count": 26,
     "metadata": {},
     "output_type": "execute_result"
    }
   ],
   "source": [
    "table_matchesfull"
   ]
  },
  {
   "cell_type": "code",
   "execution_count": 27,
   "id": "974194c9",
   "metadata": {},
   "outputs": [],
   "source": [
    "tableA=table_matchesfull[0]['Team A']\n",
    "tableB=table_matchesfull[1]['Team B']"
   ]
  },
  {
   "cell_type": "code",
   "execution_count": 28,
   "id": "c970964c",
   "metadata": {},
   "outputs": [],
   "source": [
    "index=0\n",
    "table=0\n",
    "for x in range(5):\n",
    "  if tableA[x]== name:\n",
    "        index=x+1\n",
    "        table=1\n",
    "  elif tableB[x]== name:\n",
    "        index=x+1\n",
    "        table=2\n",
    "    \n",
    "#to identify the players placement on the table so we can use it for the xpaths"
   ]
  },
  {
   "cell_type": "code",
   "execution_count": 29,
   "id": "467409f8",
   "metadata": {},
   "outputs": [],
   "source": [
    "pathme=\"/html/body/div[1]/div[2]/div[2]/div/main/div[2]/div[2]/div/div/div[1]/table[\"+ str(table)+ \"]/tbody/tr[\"+str(index)+\"]/td[1]/div\""
   ]
  },
  {
   "cell_type": "code",
   "execution_count": 30,
   "id": "1f866ee9",
   "metadata": {},
   "outputs": [],
   "source": [
    "\n",
    "options = Options()\n",
    "options.add_argument(\"--window-size=1920,1080\")\n",
    "driver = webdriver.Chrome(options=options)\n",
    "driver.get(url)\n",
    "#click on verview \n",
    "folder = driver.find_element_by_xpath(\"/html/body/div[1]/div[2]/div[2]/div/main/div[2]/div[1]/header/nav/ul/li[2]\").click()\n",
    "#click on the player data\n",
    "roler = driver.find_element_by_xpath(pathme).click()"
   ]
  },
  {
   "cell_type": "code",
   "execution_count": 32,
   "id": "333df135",
   "metadata": {},
   "outputs": [],
   "source": [
    "page_source = driver.page_source"
   ]
  },
  {
   "cell_type": "markdown",
   "id": "8003ec0b",
   "metadata": {},
   "source": [
    "extracting the defence and attack data"
   ]
  },
  {
   "cell_type": "code",
   "execution_count": 33,
   "id": "3a37ae2e",
   "metadata": {},
   "outputs": [
    {
     "name": "stdout",
     "output_type": "stream",
     "text": [
      " 7\n",
      " 12\n",
      " 4\n",
      "\n",
      "        0.6\n",
      "      \n",
      "\n",
      "        1474\n",
      "      \n",
      " 6\n",
      " 10\n",
      " 1\n",
      "\n",
      "        0.6\n",
      "      \n",
      "\n",
      "        929\n",
      "      \n"
     ]
    }
   ],
   "source": [
    "soup = BeautifulSoup(page_source, 'lxml')\n",
    "\n",
    "for row in soup.find_all('div', class_=\"stat-value\"):\n",
    "    print(row.text)\n"
   ]
  },
  {
   "cell_type": "markdown",
   "id": "759974be",
   "metadata": {},
   "source": [
    "extracting the damage done by weapons or against the enemies "
   ]
  },
  {
   "cell_type": "code",
   "execution_count": 34,
   "id": "729783cb",
   "metadata": {},
   "outputs": [
    {
     "data": {
      "text/html": [
       "<div>\n",
       "<style scoped>\n",
       "    .dataframe tbody tr th:only-of-type {\n",
       "        vertical-align: middle;\n",
       "    }\n",
       "\n",
       "    .dataframe tbody tr th {\n",
       "        vertical-align: top;\n",
       "    }\n",
       "\n",
       "    .dataframe thead th {\n",
       "        text-align: right;\n",
       "    }\n",
       "</style>\n",
       "<table border=\"1\" class=\"dataframe\">\n",
       "  <thead>\n",
       "    <tr style=\"text-align: right;\">\n",
       "      <th></th>\n",
       "      <th>0</th>\n",
       "      <th>1</th>\n",
       "      <th>2</th>\n",
       "      <th>3</th>\n",
       "    </tr>\n",
       "  </thead>\n",
       "  <tbody>\n",
       "    <tr>\n",
       "      <th>0</th>\n",
       "      <td>Assault Rifles Vandal</td>\n",
       "      <td>NaN</td>\n",
       "      <td>Kills 8</td>\n",
       "      <td>Damage 1371</td>\n",
       "    </tr>\n",
       "    <tr>\n",
       "      <th>1</th>\n",
       "      <td>Assault Rifles Guardian</td>\n",
       "      <td>NaN</td>\n",
       "      <td>Kills 4</td>\n",
       "      <td>Damage 551</td>\n",
       "    </tr>\n",
       "    <tr>\n",
       "      <th>2</th>\n",
       "      <td>SMGs Spectre</td>\n",
       "      <td>NaN</td>\n",
       "      <td>Kills 1</td>\n",
       "      <td>Damage 104</td>\n",
       "    </tr>\n",
       "  </tbody>\n",
       "</table>\n",
       "</div>"
      ],
      "text/plain": [
       "                         0   1        2            3\n",
       "0    Assault Rifles Vandal NaN  Kills 8  Damage 1371\n",
       "1  Assault Rifles Guardian NaN  Kills 4   Damage 551\n",
       "2             SMGs Spectre NaN  Kills 1   Damage 104"
      ]
     },
     "execution_count": 34,
     "metadata": {},
     "output_type": "execute_result"
    }
   ],
   "source": [
    "table_matches = pd.read_html(page_source)\n",
    "table_matches[3]"
   ]
  },
  {
   "cell_type": "code",
   "execution_count": 35,
   "id": "c16d769c",
   "metadata": {},
   "outputs": [
    {
     "data": {
      "text/html": [
       "<div>\n",
       "<style scoped>\n",
       "    .dataframe tbody tr th:only-of-type {\n",
       "        vertical-align: middle;\n",
       "    }\n",
       "\n",
       "    .dataframe tbody tr th {\n",
       "        vertical-align: top;\n",
       "    }\n",
       "\n",
       "    .dataframe thead th {\n",
       "        text-align: right;\n",
       "    }\n",
       "</style>\n",
       "<table border=\"1\" class=\"dataframe\">\n",
       "  <thead>\n",
       "    <tr style=\"text-align: right;\">\n",
       "      <th></th>\n",
       "      <th>Kills</th>\n",
       "      <th>Deaths</th>\n",
       "      <th>Damage Dealt</th>\n",
       "      <th>Damage Received</th>\n",
       "      <th>Opponent</th>\n",
       "    </tr>\n",
       "  </thead>\n",
       "  <tbody>\n",
       "    <tr>\n",
       "      <th>0</th>\n",
       "      <td>4</td>\n",
       "      <td>6</td>\n",
       "      <td>529</td>\n",
       "      <td>829</td>\n",
       "      <td>vs.  SNAzHiro#EUW</td>\n",
       "    </tr>\n",
       "    <tr>\n",
       "      <th>1</th>\n",
       "      <td>0</td>\n",
       "      <td>0</td>\n",
       "      <td>54</td>\n",
       "      <td>0</td>\n",
       "      <td>vs.  Fikuskukis56#EUNE</td>\n",
       "    </tr>\n",
       "    <tr>\n",
       "      <th>2</th>\n",
       "      <td>2</td>\n",
       "      <td>4</td>\n",
       "      <td>465</td>\n",
       "      <td>880</td>\n",
       "      <td>vs.  joskiks#EUW</td>\n",
       "    </tr>\n",
       "    <tr>\n",
       "      <th>3</th>\n",
       "      <td>4</td>\n",
       "      <td>4</td>\n",
       "      <td>920</td>\n",
       "      <td>750</td>\n",
       "      <td>vs.  K1ngBurger#king</td>\n",
       "    </tr>\n",
       "    <tr>\n",
       "      <th>4</th>\n",
       "      <td>0</td>\n",
       "      <td>5</td>\n",
       "      <td>18</td>\n",
       "      <td>775</td>\n",
       "      <td>vs.  MinoLazy13#LOM13</td>\n",
       "    </tr>\n",
       "    <tr>\n",
       "      <th>5</th>\n",
       "      <td>3</td>\n",
       "      <td>3</td>\n",
       "      <td>417</td>\n",
       "      <td>592</td>\n",
       "      <td>vs.  AKUHEI#5421</td>\n",
       "    </tr>\n",
       "  </tbody>\n",
       "</table>\n",
       "</div>"
      ],
      "text/plain": [
       "   Kills  Deaths  Damage Dealt  Damage Received                Opponent\n",
       "0      4       6           529              829       vs.  SNAzHiro#EUW\n",
       "1      0       0            54                0  vs.  Fikuskukis56#EUNE\n",
       "2      2       4           465              880        vs.  joskiks#EUW\n",
       "3      4       4           920              750    vs.  K1ngBurger#king\n",
       "4      0       5            18              775   vs.  MinoLazy13#LOM13\n",
       "5      3       3           417              592        vs.  AKUHEI#5421"
      ]
     },
     "execution_count": 35,
     "metadata": {},
     "output_type": "execute_result"
    }
   ],
   "source": [
    "table_matches[2]"
   ]
  },
  {
   "cell_type": "code",
   "execution_count": null,
   "id": "a701144f",
   "metadata": {},
   "outputs": [],
   "source": []
  }
 ],
 "metadata": {
  "kernelspec": {
   "display_name": "Python 3",
   "language": "python",
   "name": "python3"
  },
  "language_info": {
   "codemirror_mode": {
    "name": "ipython",
    "version": 3
   },
   "file_extension": ".py",
   "mimetype": "text/x-python",
   "name": "python",
   "nbconvert_exporter": "python",
   "pygments_lexer": "ipython3",
   "version": "3.8.8"
  }
 },
 "nbformat": 4,
 "nbformat_minor": 5
}
